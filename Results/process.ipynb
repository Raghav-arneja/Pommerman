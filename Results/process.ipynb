{
 "cells": [
  {
   "cell_type": "code",
   "execution_count": 1,
   "metadata": {},
   "outputs": [
    {
     "name": "stdout",
     "output_type": "stream",
     "text": [
      "Processed 7780 lines.\n"
     ]
    }
   ],
   "source": [
    "import csv\n",
    "\n",
    "with open('raw/log_conv_ppo_lre3-vanilla-lre3.csv') as csv_file:\n",
    "    csv_reader = csv.reader(csv_file, delimiter=',')\n",
    "    line_count = 0\n",
    "    Arr1=[]\n",
    "    Arr2=[]\n",
    "    oldpom = []\n",
    "    for row in csv_reader:\n",
    "        if line_count != 0:        \n",
    "            if line_count %2 == 0:\n",
    "                pompam = row.pop(-1)\n",
    "                #row = row + pompam[1:-1].split(', ')\n",
    "                pompam = pompam[1:-1].split(', ')\n",
    "                pompam_int = []\n",
    "                pers_str = []\n",
    "                for item in pompam:    #string to int\n",
    "                    pompam_int.append(int(item))\n",
    "                sum = 0\n",
    "                delta = []\n",
    "                pers = []\n",
    "                if oldpom != []:\n",
    "                    for x in [-6,-5,-4,-3,-2,-1]:\n",
    "                        delta.append(pompam_int[x] - oldpom[x])\n",
    "                        sum += pompam_int[x] - oldpom[x]\n",
    "                    for x in range (6):\n",
    "                        pers.append(delta[x] / sum)\n",
    "                for item in pers: # int to string\n",
    "                    pers_str.append(str(item))   \n",
    "                #row join list of strings\n",
    "                oldpom = list(pompam_int)\n",
    "                row = row + pers_str\n",
    "                #print(row)\n",
    "                Arr1.append(\", \".join(row))\n",
    "                #print(\", \".join(row))\n",
    "            else:\n",
    "                Arr2.append(\", \".join(row))\n",
    "                #print(\", \".join(row))\n",
    "        line_count += 1\n",
    "    print(f'Processed {line_count} lines.')\n",
    "\n",
    "new_path = 'log_conv_ppo_lre3-vanilla-lre3.csv'\n",
    "process1 = open(new_path,'w')\n",
    "header = \"episodes,mean timesteps,mean reward,median reward,min reward,max reward,stop,up,left,down,right,bomb\"\n",
    "process1.write(header+\"\\n\")\n",
    "for item in Arr1:\n",
    "    process1.write(item+\"\\n\")\n",
    "process1.close()    \n",
    "\n",
    "#new_path = 'process2.csv'\n",
    "#process2 = open(new_path,'w')\n",
    "#header = \"episodes,mean reward,median reward,min reward,max reward\"\n",
    "#process2.write(header+\"\\n\")\n",
    "#for item in Arr2:\n",
    "#    process2.write(item+\"\\n\")\n",
    "#process2.close()    "
   ]
  },
  {
   "cell_type": "code",
   "execution_count": 2,
   "metadata": {},
   "outputs": [
    {
     "name": "stdout",
     "output_type": "stream",
     "text": [
      "process.ipynb \u001b[1m\u001b[36mraw\u001b[m\u001b[m\r\n"
     ]
    }
   ],
   "source": []
  },
  {
   "cell_type": "code",
   "execution_count": 27,
   "metadata": {},
   "outputs": [
    {
     "data": {
      "text/plain": [
       "<tf.Operation 'PrintV2_1' type=PrintV2>"
      ]
     },
     "execution_count": 27,
     "metadata": {},
     "output_type": "execute_result"
    }
   ],
   "source": []
  },
  {
   "cell_type": "code",
   "execution_count": null,
   "metadata": {},
   "outputs": [],
   "source": []
  }
 ],
 "metadata": {
  "kernelspec": {
   "display_name": "Python 3",
   "language": "python",
   "name": "python3"
  },
  "language_info": {
   "codemirror_mode": {
    "name": "ipython",
    "version": 3
   },
   "file_extension": ".py",
   "mimetype": "text/x-python",
   "name": "python",
   "nbconvert_exporter": "python",
   "pygments_lexer": "ipython3",
   "version": "3.6.5"
  }
 },
 "nbformat": 4,
 "nbformat_minor": 2
}
